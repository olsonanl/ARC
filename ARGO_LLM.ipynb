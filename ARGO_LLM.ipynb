{
 "cells": [
  {
   "cell_type": "code",
   "execution_count": null,
   "id": "eccc9159",
   "metadata": {},
   "outputs": [],
   "source": [
    "from CustomLLM import ARGO_LLM\n",
    "from ARGO import ArgoWrapper, MODEL_GPT35, MODEL_GPT4\n"
   ]
  },
  {
   "cell_type": "code",
   "execution_count": null,
   "id": "993eb9b0",
   "metadata": {},
   "outputs": [],
   "source": [
    "wrapper = ArgoWrapper()\n",
    "llm = ARGO_LLM(argo = wrapper)\n",
    "response = llm.invoke(\"What are some common flaviviruses\")\n",
    "print(response)\n",
    "wrapper.model = MODEL_GPT4\n",
    "response = llm.invoke(\"What are some common flaviviruses\")\n",
    "print(response)\n",
    "wrapper.system = \"You are a third grade teacher\"\n",
    "response = llm.invoke(\"What are some common flaviviruses\")\n",
    "print(response)"
   ]
  }
 ],
 "metadata": {
  "kernelspec": {
   "display_name": "Python 3 (ipykernel)",
   "language": "python",
   "name": "python3"
  },
  "language_info": {
   "codemirror_mode": {
    "name": "ipython",
    "version": 3
   },
   "file_extension": ".py",
   "mimetype": "text/x-python",
   "name": "python",
   "nbconvert_exporter": "python",
   "pygments_lexer": "ipython3",
   "version": "3.9.6"
  }
 },
 "nbformat": 4,
 "nbformat_minor": 5
}
